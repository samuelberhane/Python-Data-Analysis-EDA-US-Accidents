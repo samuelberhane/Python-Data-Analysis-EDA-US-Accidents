{
 "cells": [
  {
   "cell_type": "markdown",
   "id": "df9e7ac0",
   "metadata": {},
   "source": [
    "# US Accidents Exploratory Data Analysis"
   ]
  },
  {
   "cell_type": "markdown",
   "id": "b377eef7",
   "metadata": {},
   "source": [
    "## Data Source\n",
    "- Kaggle\n",
    "- Information About Accidents\n",
    "### https://www.kaggle.com/datasets/sobhanmoosavi/us-accidents"
   ]
  },
  {
   "cell_type": "markdown",
   "id": "2b0e9260",
   "metadata": {},
   "source": [
    "## Data Preparation and Cleaning"
   ]
  },
  {
   "cell_type": "code",
   "execution_count": 1,
   "id": "bc06d5c9",
   "metadata": {},
   "outputs": [],
   "source": [
    "import numpy as np\n",
    "import pandas as pd\n",
    "import matplotlib.pyplot as plt\n",
    "import seaborn as sns"
   ]
  },
  {
   "cell_type": "code",
   "execution_count": null,
   "id": "4be2b3c2",
   "metadata": {},
   "outputs": [],
   "source": [
    "df = pd.read_csv(\"US_accidents.csv\")"
   ]
  },
  {
   "cell_type": "code",
   "execution_count": null,
   "id": "38cae7d9",
   "metadata": {},
   "outputs": [],
   "source": []
  },
  {
   "cell_type": "code",
   "execution_count": null,
   "id": "77374b51",
   "metadata": {},
   "outputs": [],
   "source": []
  },
  {
   "cell_type": "code",
   "execution_count": null,
   "id": "d55ef9e1",
   "metadata": {},
   "outputs": [],
   "source": []
  }
 ],
 "metadata": {
  "kernelspec": {
   "display_name": "Python 3 (ipykernel)",
   "language": "python",
   "name": "python3"
  },
  "language_info": {
   "codemirror_mode": {
    "name": "ipython",
    "version": 3
   },
   "file_extension": ".py",
   "mimetype": "text/x-python",
   "name": "python",
   "nbconvert_exporter": "python",
   "pygments_lexer": "ipython3",
   "version": "3.11.4"
  }
 },
 "nbformat": 4,
 "nbformat_minor": 5
}
